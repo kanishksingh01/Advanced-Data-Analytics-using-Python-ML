{
 "cells": [
  {
   "cell_type": "code",
   "execution_count": 4,
   "id": "81019f15-51eb-4ec1-b523-fb5ca674acbd",
   "metadata": {},
   "outputs": [
    {
     "name": "stdout",
     "output_type": "stream",
     "text": [
      "Hello world, I am Kanishk!\n"
     ]
    }
   ],
   "source": [
    "print(\"Hello world, I am Kanishk!\")"
   ]
  }
 ],
 "metadata": {
  "kernelspec": {
   "display_name": "Python 3 (ipykernel)",
   "language": "python",
   "name": "python3"
  },
  "language_info": {
   "codemirror_mode": {
    "name": "ipython",
    "version": 3
   },
   "file_extension": ".py",
   "mimetype": "text/x-python",
   "name": "python",
   "nbconvert_exporter": "python",
   "pygments_lexer": "ipython3",
   "version": "3.12.4"
  }
 },
 "nbformat": 4,
 "nbformat_minor": 5
}
