{
 "cells": [
  {
   "cell_type": "code",
   "execution_count": 5,
   "id": "00ac2c4c-1294-4f22-ae9f-4217dfea61a7",
   "metadata": {},
   "outputs": [
    {
     "name": "stdin",
     "output_type": "stream",
     "text": [
      "Distance in miles:  35\n",
      "Speed in miles per hour:  40\n"
     ]
    },
    {
     "name": "stdout",
     "output_type": "stream",
     "text": [
      "Time taken in hours: 0.875\n",
      "Time taken in minutes: 52.5\n"
     ]
    }
   ],
   "source": [
    "## Vehicle_routing\n",
    "Distance = input(\"Distance in miles: \")\n",
    "Speed = input(\"Speed in miles per hour: \")\n",
    "\n",
    "time = int(Distance) / int(Speed)\n",
    "time_minutes = time * 60\n",
    "print(\"Time taken in hours:\", time)\n",
    "print(\"Time taken in minutes:\", round(time_minutes, 1))\n"
   ]
  },
  {
   "cell_type": "code",
   "execution_count": 7,
   "id": "b98f6c67-429d-4d24-aba2-6259b357a143",
   "metadata": {},
   "outputs": [
    {
     "name": "stdin",
     "output_type": "stream",
     "text": [
      "Height in inches:  66\n",
      "Weight in pounds:  130\n"
     ]
    },
    {
     "name": "stdout",
     "output_type": "stream",
     "text": [
      "For a height of 66 inches, a healthy BMI is ranged between 115 and 154.\n"
     ]
    }
   ],
   "source": [
    "\n",
    "## BMI_RANGE\n",
    "\n",
    "Height = input(\"Height in inches: \")\n",
    "Weight = input(\"Weight in pounds: \")\n",
    "\n",
    "bmi = (int(Weight) / (int(Height) * int(Height))) * 703\n",
    "weight_low = round(18.5 * (int(Height) * int(Height)) / 703)\n",
    "weight_high = round(24.9 * (int(Height) * int(Height)) / 703)\n",
    "\n",
    "print(f\"For a height of {Height} inches, a healthy BMI is ranged between {weight_low} and {weight_high}.\")\n",
    "\n",
    "\n"
   ]
  },
  {
   "cell_type": "code",
   "execution_count": 9,
   "id": "dcb936fa-f611-479d-9ee1-1b387128e9e8",
   "metadata": {},
   "outputs": [
    {
     "name": "stdin",
     "output_type": "stream",
     "text": [
      "Enter the number of items:  11\n"
     ]
    },
    {
     "name": "stdout",
     "output_type": "stream",
     "text": [
      "Gross cost: $11.00\n",
      "Discount: $0.55\n",
      "Net cost: $10.45\n",
      "\n",
      "Tax: $0.78\n",
      "Total price after tax: $11.23\n"
     ]
    }
   ],
   "source": [
    "## dollar_store\n",
    "\n",
    "def calculate_total_cost(item_count):\n",
    "    item_price = 1  # Price of each item\n",
    "    discount_threshold = 10  # Number of items required for discount\n",
    "    discount_percentage = 0.05  # 5% discount\n",
    "    sales_tax_percentage = 0.075  # 7.5% sales tax\n",
    "\n",
    "    total_cost = item_count * item_price  # Calculate total cost without discount\n",
    "\n",
    "    if item_count > discount_threshold:\n",
    "        discount_amount = total_cost * discount_percentage\n",
    "        total_cost -= discount_amount\n",
    "\n",
    "    sales_tax_amount = total_cost * sales_tax_percentage\n",
    "    total_cost += sales_tax_amount\n",
    "\n",
    "    return total_cost\n",
    "\n",
    "item_count = int(input(\"Enter the number of items: \"))\n",
    "total_cost = calculate_total_cost(item_count)\n",
    "\n",
    "gross_cost = item_count * 1\n",
    "discount = 0\n",
    "net_cost = gross_cost\n",
    "\n",
    "if item_count > 10:\n",
    "    discount = gross_cost * 0.05\n",
    "    net_cost = gross_cost - discount\n",
    "\n",
    "tax = net_cost * 0.075\n",
    "total_price = net_cost + tax\n",
    "\n",
    "print(f\"Gross cost: ${gross_cost:.2f}\")\n",
    "print(f\"Discount: ${discount:.2f}\")\n",
    "print(f\"Net cost: ${net_cost:.2f}\")\n",
    "print(\"\")\n",
    "print(f\"Tax: ${tax:.2f}\")\n",
    "print(f\"Total price after tax: ${total_price:.2f}\")"
   ]
  },
  {
   "cell_type": "code",
   "execution_count": null,
   "id": "9d2239f2-ca90-48b4-bdf2-c463d9ac1e1b",
   "metadata": {},
   "outputs": [],
   "source": []
  }
 ],
 "metadata": {
  "kernelspec": {
   "display_name": "Python 3 (ipykernel)",
   "language": "python",
   "name": "python3"
  },
  "language_info": {
   "codemirror_mode": {
    "name": "ipython",
    "version": 3
   },
   "file_extension": ".py",
   "mimetype": "text/x-python",
   "name": "python",
   "nbconvert_exporter": "python",
   "pygments_lexer": "ipython3",
   "version": "3.12.4"
  }
 },
 "nbformat": 4,
 "nbformat_minor": 5
}
