{
 "cells": [
  {
   "cell_type": "markdown",
   "id": "f8a196c7",
   "metadata": {},
   "source": [
    "Python for Data & Analytics<br>\n",
    "Session 5, Example Programs\n",
    "\n",
    "*** requires datafiles: aqi.txt, SP500_Constituents.csv, aqina.txt"
   ]
  },
  {
   "cell_type": "markdown",
   "id": "c3b92982",
   "metadata": {},
   "source": [
    "Programs 10-4"
   ]
  },
  {
   "cell_type": "code",
   "execution_count": null,
   "id": "eeb77071",
   "metadata": {},
   "outputs": [],
   "source": [
    "import pandas as pd\n",
    "dfAQI = pd.read_csv('aqi.txt', index_col='color')\n",
    "dfsp = pd.read_csv('SP500_Constituents.csv', index_col='Symbol')"
   ]
  },
  {
   "cell_type": "code",
   "execution_count": null,
   "id": "df5c2fac",
   "metadata": {},
   "outputs": [],
   "source": [
    "#Access a particular DataFrame column\n",
    "\n",
    "dfAQI['concern']"
   ]
  },
  {
   "cell_type": "code",
   "execution_count": null,
   "id": "918319af",
   "metadata": {},
   "outputs": [],
   "source": [
    "#Result of column access \n",
    "\n",
    "type(dfAQI['concern'])"
   ]
  },
  {
   "cell_type": "code",
   "execution_count": null,
   "id": "9c2dae30",
   "metadata": {},
   "outputs": [],
   "source": [
    "#Convert from Series to list \n",
    "\n",
    "dfAQI['concern'].tolist()"
   ]
  },
  {
   "cell_type": "code",
   "execution_count": null,
   "id": "99c86be5",
   "metadata": {},
   "outputs": [],
   "source": [
    "#Get a subset of DataFrame's column \n",
    "\n",
    "dfAQI[['low', 'high']]"
   ]
  },
  {
   "cell_type": "code",
   "execution_count": null,
   "id": "03eb1b46",
   "metadata": {},
   "outputs": [],
   "source": [
    "#Access row by index name\n",
    "\n",
    "dfAQI.loc['Yellow']"
   ]
  },
  {
   "cell_type": "code",
   "execution_count": null,
   "id": "ef99b099",
   "metadata": {},
   "outputs": [],
   "source": [
    "#Access row by row number\n",
    "\n",
    "dfAQI.iloc[0]"
   ]
  },
  {
   "cell_type": "code",
   "execution_count": null,
   "id": "3845002b",
   "metadata": {},
   "outputs": [],
   "source": [
    "#Get a single cell value\n",
    "\n",
    "dfAQI.loc['Red']['concern']"
   ]
  },
  {
   "cell_type": "code",
   "execution_count": null,
   "id": "7fa587fc",
   "metadata": {},
   "outputs": [],
   "source": [
    "#Get a single cell value\n",
    "\n",
    "dfAQI['concern']['Red']"
   ]
  },
  {
   "cell_type": "markdown",
   "id": "e7c26f5a",
   "metadata": {},
   "source": [
    "Programs 10-5"
   ]
  },
  {
   "cell_type": "code",
   "execution_count": null,
   "id": "7a81cd16",
   "metadata": {},
   "outputs": [],
   "source": [
    "#Sort a DataFrame\n",
    "\n",
    "dfAQI.sort_values('low', ascending=False)"
   ]
  },
  {
   "cell_type": "code",
   "execution_count": null,
   "id": "51206aa1",
   "metadata": {},
   "outputs": [],
   "source": [
    "#Sort and set inplace=True to change the DataFrame \n",
    "\n",
    "dfAQI.sort_values('low', ascending=False, inplace=True)\n",
    "dfAQI"
   ]
  },
  {
   "cell_type": "code",
   "execution_count": null,
   "id": "c64c1e16",
   "metadata": {},
   "outputs": [],
   "source": [
    "#Filter\n",
    "\n",
    "dfAQI[dfAQI.high <= 100]"
   ]
  },
  {
   "cell_type": "code",
   "execution_count": null,
   "id": "5d0adece",
   "metadata": {},
   "outputs": [],
   "source": [
    "#Check boolean for each row\n",
    "\n",
    "dfAQI.high <= 100"
   ]
  },
  {
   "cell_type": "code",
   "execution_count": null,
   "id": "81b7fd8d",
   "metadata": {},
   "outputs": [],
   "source": [
    "#Filter with compound condition\n",
    "\n",
    "level = 75\n",
    "dfAQI[(dfAQI.low <= level) & (level <= dfAQI.high)]"
   ]
  },
  {
   "cell_type": "code",
   "execution_count": null,
   "id": "c544fdcc",
   "metadata": {},
   "outputs": [],
   "source": [
    "#Slicing to get part of the data\n",
    "\n",
    "dfAQI[:3]"
   ]
  },
  {
   "cell_type": "code",
   "execution_count": null,
   "id": "01caf15a",
   "metadata": {},
   "outputs": [],
   "source": [
    "#Loop over DataFrame rows\n",
    "\n",
    "for color, row in dfAQI.iterrows():\n",
    "   print(color+':', row.concern)"
   ]
  },
  {
   "cell_type": "markdown",
   "id": "b1ca670a",
   "metadata": {},
   "source": [
    "Programs 10-5.1"
   ]
  },
  {
   "cell_type": "code",
   "execution_count": null,
   "id": "88333f78",
   "metadata": {},
   "outputs": [],
   "source": [
    "# Interactive data lookup program - S&P 500 securities\n",
    "\n",
    "import pandas as pd\n",
    "dfsp = pd.read_csv('sp500_Constituents.csv',\n",
    "                   index_col='Symbol')\n",
    "\n",
    "symbol = input(\"Enter security symbol of interest: \")\n",
    "\n",
    "while symbol != '':\n",
    "   symbol = symbol.upper()   # symbols are upper case in the data\n",
    "   if symbol in dfsp.index:  # check if symbol is in data\n",
    "      row = dfsp.loc[symbol] # locate the data using loc[]\n",
    "      print(row)\n",
    "   else:\n",
    "      print(\"Not found\")\n",
    "      \n",
    "   symbol = input(\"Enter security symbol of interest (or <return> to end): \")"
   ]
  },
  {
   "cell_type": "markdown",
   "id": "caba3961",
   "metadata": {},
   "source": [
    "Programs 10-6"
   ]
  },
  {
   "cell_type": "code",
   "execution_count": null,
   "id": "c6e91f24",
   "metadata": {},
   "outputs": [],
   "source": [
    "#Read the file and identifying Missing values\n",
    "\n",
    "import pandas as pd\n",
    "dfAQI2 = pd.read_csv('aqina.txt', index_col='color')\n",
    "dfAQI2"
   ]
  },
  {
   "cell_type": "code",
   "execution_count": null,
   "id": "57a733d0",
   "metadata": {},
   "outputs": [],
   "source": [
    "#Check info and identifying Missing values\n",
    "\n",
    "dfAQI2.info()"
   ]
  },
  {
   "cell_type": "code",
   "execution_count": null,
   "id": "a7f62f90",
   "metadata": {},
   "outputs": [],
   "source": [
    "#Locate missing data with a filter expression\n",
    "\n",
    "dfAQI2[dfAQI2.high.isna()]"
   ]
  },
  {
   "cell_type": "markdown",
   "id": "7babf13c",
   "metadata": {},
   "source": [
    "Program 10-7"
   ]
  },
  {
   "cell_type": "code",
   "execution_count": null,
   "id": "ea2ba085",
   "metadata": {},
   "outputs": [],
   "source": [
    "dfAQI"
   ]
  },
  {
   "cell_type": "code",
   "execution_count": null,
   "id": "da860056",
   "metadata": {},
   "outputs": [],
   "source": [
    "#Appending column\n",
    "\n",
    "dfAQI['number'] = [1, 2, 3, 4, 5, 6]"
   ]
  },
  {
   "cell_type": "code",
   "execution_count": null,
   "id": "447a8160",
   "metadata": {},
   "outputs": [],
   "source": [
    "dfAQI"
   ]
  },
  {
   "cell_type": "code",
   "execution_count": null,
   "id": "b473d825",
   "metadata": {},
   "outputs": [],
   "source": [
    "#Appending row\n",
    "\n",
    "newrow = \\\n",
    " pd.DataFrame({'concern':['Worst'],'low':[1000],'high':[9999],'number':7},\n",
    "              index=['Brown'])\n",
    "dfAQI = pd.concat([dfAQI, newrow])"
   ]
  },
  {
   "cell_type": "code",
   "execution_count": null,
   "id": "239a3a8d",
   "metadata": {},
   "outputs": [],
   "source": [
    "dfAQI"
   ]
  },
  {
   "cell_type": "code",
   "execution_count": null,
   "id": "e2c574dc",
   "metadata": {},
   "outputs": [],
   "source": [
    "#Delete column\n",
    "\n",
    "dfAQI.drop('number', axis='columns', inplace=True)\n",
    "dfAQI"
   ]
  },
  {
   "cell_type": "code",
   "execution_count": null,
   "id": "37bceb08",
   "metadata": {},
   "outputs": [],
   "source": [
    "#Delete row\n",
    "\n",
    "dfAQI.drop('Brown', inplace=True)\n",
    "dfAQI"
   ]
  },
  {
   "cell_type": "code",
   "execution_count": null,
   "id": "90f5375e",
   "metadata": {},
   "outputs": [],
   "source": [
    "#Update cell's value\n",
    "\n",
    "dfAQI.at['Orange', 'concern'] = 'Unhealthy For Some'\n",
    "dfAQI"
   ]
  },
  {
   "cell_type": "markdown",
   "id": "a16ab304",
   "metadata": {},
   "source": [
    "Programs 10-8\n",
    "*** requires datafiles: aqi.txt, aqidays.txt, aqidays2.txt"
   ]
  },
  {
   "cell_type": "code",
   "execution_count": null,
   "id": "d0319aba",
   "metadata": {},
   "outputs": [],
   "source": [
    "import pandas as pd\n",
    "\n",
    "dfAQIdays = pd.read_csv('aqidays.txt', index_col='color')\n",
    "dfAQIdays"
   ]
  },
  {
   "cell_type": "code",
   "execution_count": null,
   "id": "064b4d34",
   "metadata": {},
   "outputs": [],
   "source": [
    "#Joining two dataframes\n",
    "\n",
    "dfAQI.join(dfAQIdays) \n"
   ]
  },
  {
   "cell_type": "code",
   "execution_count": null,
   "id": "f1644161",
   "metadata": {},
   "outputs": [],
   "source": [
    "dfAQIdays2 = pd.read_csv('aqidays2.txt', index_col='color')\n",
    "dfAQIdays2"
   ]
  },
  {
   "cell_type": "code",
   "execution_count": null,
   "id": "909fdcda",
   "metadata": {},
   "outputs": [],
   "source": [
    "#Joining two dataframes with missing values\n",
    "\n",
    "dfAQI.join(dfAQIdays2)"
   ]
  },
  {
   "cell_type": "code",
   "execution_count": null,
   "id": "c235e2a7",
   "metadata": {},
   "outputs": [],
   "source": [
    "#right join to join only existing values\n",
    "dfAQI.join(dfAQIdays2, how='right')"
   ]
  },
  {
   "cell_type": "markdown",
   "id": "8ba62333",
   "metadata": {},
   "source": [
    "Code from: Python for Data & Analytics, (c) 2023 Rose River Software, LLC"
   ]
  }
 ],
 "metadata": {
  "colab": {
   "name": "p4da-10-4.ipynb",
   "provenance": []
  },
  "kernelspec": {
   "display_name": "Python 3 (ipykernel)",
   "language": "python",
   "name": "python3"
  },
  "language_info": {
   "codemirror_mode": {
    "name": "ipython",
    "version": 3
   },
   "file_extension": ".py",
   "mimetype": "text/x-python",
   "name": "python",
   "nbconvert_exporter": "python",
   "pygments_lexer": "ipython3",
   "version": "3.11.5"
  }
 },
 "nbformat": 4,
 "nbformat_minor": 5
}
