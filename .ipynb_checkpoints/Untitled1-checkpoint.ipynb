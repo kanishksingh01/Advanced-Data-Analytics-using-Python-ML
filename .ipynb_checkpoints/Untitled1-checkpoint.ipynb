{
 "cells": [
  {
   "cell_type": "code",
   "execution_count": 1,
   "id": "06cde86f-b00d-42a5-986e-466e9432d6fd",
   "metadata": {},
   "outputs": [
    {
     "name": "stdin",
     "output_type": "stream",
     "text": [
      "Enter the number of legs:  2\n",
      "Enter the distance for leg 1 in miles:  30\n",
      "Enter the speed for leg 1 in miles per hour:  60\n",
      "Enter the distance for leg 2 in miles:  10\n",
      "Enter the speed for leg 2 in miles per hour:  30\n"
     ]
    },
    {
     "name": "stdout",
     "output_type": "stream",
     "text": [
      "Total time to finish 2 legs is 50.0 minutes.\n"
     ]
    }
   ],
   "source": [
    "def route_time():\n",
    "    num_legs = int(input(\"Enter the number of legs: \"))\n",
    "    total_time = 0.0\n",
    "\n",
    "    for i in range(num_legs):\n",
    "        distance = float(input(f\"Enter the distance for leg {i+1} in miles: \"))\n",
    "        speed = float(input(f\"Enter the speed for leg {i+1} in miles per hour: \"))\n",
    "        if speed <= 0:\n",
    "            print(\"Speed must be greater than 0.\")\n",
    "            return\n",
    "        leg_time = distance / speed\n",
    "        total_time += leg_time\n",
    "\n",
    "    total_time_minutes = round(total_time * 60, 2)\n",
    "    print(f\"Total time to finish {num_legs} legs is {total_time_minutes} minutes.\")\n",
    "\n",
    "# Example usage\n",
    "if __name__ == \"__main__\":\n",
    "    route_time()"
   ]
  },
  {
   "cell_type": "code",
   "execution_count": 3,
   "id": "f65bdc12-f10b-4acf-8235-68db73bea578",
   "metadata": {},
   "outputs": [
    {
     "name": "stdin",
     "output_type": "stream",
     "text": [
      "Enter the number of credits:  12\n"
     ]
    },
    {
     "name": "stdout",
     "output_type": "stream",
     "text": [
      "The tuition for 12 credits is $20000.\n"
     ]
    }
   ],
   "source": [
    "def calcTuition(credits):\n",
    "    return credits\n",
    "\n",
    "def calcTuition(credits):\n",
    "    if credits >= 12:\n",
    "        return 20000\n",
    "    elif credits >= 1:\n",
    "        return 1200 + 1700 * credits\n",
    "    else:\n",
    "        return 0\n",
    "\n",
    "def main():\n",
    "    try:\n",
    "        credits = int(input(\"Enter the number of credits: \"))\n",
    "        if credits < 0:\n",
    "            print(\"Number of credits cannot be negative.\")\n",
    "        else:\n",
    "            tuition = calcTuition(credits)\n",
    "            print(f\"The tuition for {credits} credits is ${tuition}.\")\n",
    "    except ValueError:\n",
    "        print(\"Please enter a valid number of credits.\")\n",
    "\n",
    "if __name__ == \"__main__\":\n",
    "    main()"
   ]
  },
  {
   "cell_type": "code",
   "execution_count": null,
   "id": "4b568387-c271-41d1-bf97-41d556d3d9c8",
   "metadata": {},
   "outputs": [],
   "source": []
  }
 ],
 "metadata": {
  "kernelspec": {
   "display_name": "Python 3 (ipykernel)",
   "language": "python",
   "name": "python3"
  },
  "language_info": {
   "codemirror_mode": {
    "name": "ipython",
    "version": 3
   },
   "file_extension": ".py",
   "mimetype": "text/x-python",
   "name": "python",
   "nbconvert_exporter": "python",
   "pygments_lexer": "ipython3",
   "version": "3.12.4"
  }
 },
 "nbformat": 4,
 "nbformat_minor": 5
}
