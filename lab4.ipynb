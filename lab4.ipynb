{
 "cells": [
  {
   "cell_type": "code",
   "execution_count": 9,
   "id": "6f3a84fe-2fa7-473f-bb78-0f882cb5e2cd",
   "metadata": {},
   "outputs": [
    {
     "name": "stdin",
     "output_type": "stream",
     "text": [
      "How are you?  not good\n"
     ]
    }
   ],
   "source": [
    "## Lab 4\n",
    "\n",
    "## hello\n",
    "\n",
    "# Prompt the user\n",
    "response = input(\"How are you? \")\n",
    "\n",
    "# Process the response\n",
    "response = response.strip().lower()\n",
    "\n",
    "# Check the response and print the appropriate message\n",
    "if response == \"ok\":\n",
    "    print(\"Good to hear!\")"
   ]
  },
  {
   "cell_type": "code",
   "execution_count": 5,
   "id": "05e7ca0b-373a-4755-b409-94cca31ec14e",
   "metadata": {},
   "outputs": [
    {
     "name": "stdin",
     "output_type": "stream",
     "text": [
      "Please enter an integer:  12\n"
     ]
    },
    {
     "name": "stdout",
     "output_type": "stream",
     "text": [
      "Valid integer\n"
     ]
    }
   ],
   "source": [
    "## integer check\n",
    "\n",
    "# Prompt the user\n",
    "user_input = input(\"Please enter an integer: \")\n",
    "\n",
    "# Process the input\n",
    "user_input = user_input.strip()\n",
    "\n",
    "# Check if the input is a valid integer\n",
    "if user_input.isdigit():\n",
    "    print(\"Valid integer\")\n",
    "else:\n",
    "    print(\"Invalid integer\")\n"
   ]
  },
  {
   "cell_type": "code",
   "execution_count": 1,
   "id": "4015acad-de23-4c90-9e28-b990e3eb944a",
   "metadata": {},
   "outputs": [
    {
     "name": "stdin",
     "output_type": "stream",
     "text": [
      "Enter a country code (US, CA, MX) or 'exit' to quit:  ca\n",
      "Enter a measure name (pop, gdp, ccy, fx):  po\n"
     ]
    },
    {
     "name": "stdout",
     "output_type": "stream",
     "text": [
      "Invalid measure name. Please try again.\n"
     ]
    },
    {
     "name": "stdin",
     "output_type": "stream",
     "text": [
      "Enter a country code (US, CA, MX) or 'exit' to quit:  ca\n",
      "Enter a measure name (pop, gdp, ccy, fx):  pop\n"
     ]
    },
    {
     "name": "stdout",
     "output_type": "stream",
     "text": [
      "The pop of CA is 36.5.\n"
     ]
    },
    {
     "name": "stdin",
     "output_type": "stream",
     "text": [
      "Enter a country code (US, CA, MX) or 'exit' to quit:  exit\n"
     ]
    }
   ],
   "source": [
    "## country statistics lookup\n",
    "\n",
    "allData = {\n",
    "    'US': {'pop': 325.7, 'gdp': 19.39, 'ccy': 'USD', 'fx': 1.0},\n",
    "    'CA': {'pop': 36.5, 'gdp': 1.65, 'ccy': 'CAD', 'fx': 1.35},\n",
    "    'MX': {'pop': 129.2, 'gdp': 1.15, 'ccy': 'MXN', 'fx': 19.68},\n",
    "}\n",
    "\n",
    "while True:\n",
    "    # Prompt the user for a country code\n",
    "    country_code = input(\"Enter a country code (US, CA, MX) or 'exit' to quit: \").strip().upper()\n",
    "    \n",
    "    if country_code == 'EXIT':\n",
    "        break\n",
    "    \n",
    "    if country_code not in allData:\n",
    "        print(\"Invalid country code. Please try again.\")\n",
    "        continue\n",
    "    \n",
    "    # Prompt the user for a measure name\n",
    "    measure_name = input(\"Enter a measure name (pop, gdp, ccy, fx): \").strip().lower()\n",
    "    \n",
    "    if measure_name not in allData[country_code]:\n",
    "        print(\"Invalid measure name. Please try again.\")\n",
    "        continue\n",
    "    \n",
    "    # Lookup and display the value\n",
    "    value = allData[country_code][measure_name]\n",
    "    print(f\"The {measure_name} of {country_code} is {value}.\")\n"
   ]
  },
  {
   "cell_type": "code",
   "execution_count": null,
   "id": "35b8976a-3780-4a84-b6e6-3ccb13293c4f",
   "metadata": {},
   "outputs": [],
   "source": []
  }
 ],
 "metadata": {
  "kernelspec": {
   "display_name": "Python 3 (ipykernel)",
   "language": "python",
   "name": "python3"
  },
  "language_info": {
   "codemirror_mode": {
    "name": "ipython",
    "version": 3
   },
   "file_extension": ".py",
   "mimetype": "text/x-python",
   "name": "python",
   "nbconvert_exporter": "python",
   "pygments_lexer": "ipython3",
   "version": "3.12.4"
  }
 },
 "nbformat": 4,
 "nbformat_minor": 5
}
